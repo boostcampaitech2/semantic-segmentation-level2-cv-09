{
 "cells": [
  {
   "cell_type": "code",
   "execution_count": null,
   "id": "62a97d58-275f-461a-9c32-6c7d62ec5bfa",
   "metadata": {},
   "outputs": [],
   "source": [
    "from dataset import BaseDataset, BaseAugmentation, CustomTrainAugmentation\n",
    "import torch\n",
    "import utils\n",
    "import matplotlib.pyplot as plt\n",
    "import numpy as np"
   ]
  },
  {
   "cell_type": "code",
   "execution_count": null,
   "id": "7f928cf4-0ea3-4e16-a0e0-908fb40c6ad4",
   "metadata": {},
   "outputs": [],
   "source": [
    "transform = CustomTrainAugmentation()"
   ]
  },
  {
   "cell_type": "code",
   "execution_count": null,
   "id": "1d981580-da38-4bb5-aecd-1a61dfe176b7",
   "metadata": {},
   "outputs": [],
   "source": [
    "val_dataset = BaseDataset('../../input/data', 'val.json')\n",
    "val_dataset.set_transform(transform)\n",
    "val_loader = torch.utils.data.DataLoader(\n",
    "        dataset=val_dataset,\n",
    "        batch_size = 1,\n",
    "        collate_fn = utils.collate_fn\n",
    "    )\n",
    "it = iter(val_loader)\n",
    "temp_images, temp_masks, image_infos = next(it) # 0\n",
    "image_infos = image_infos[0]\n",
    "category_names = val_dataset.category_names\n",
    "\n",
    "fig, (ax1, ax2) = plt.subplots(nrows=1, ncols=2, figsize=(12, 12))\n",
    "\n",
    "print('image shape:', list(temp_images[0].shape))\n",
    "print('mask shape: ', list(temp_masks[0].shape))\n",
    "print('Unique values, category of transformed mask : \\n', [{int(i),category_names[int(i)]} for i in list(np.unique(temp_masks[0]))])\n",
    "\n",
    "ax1.imshow(temp_images[0].permute([1,2,0]))\n",
    "ax1.grid(False)\n",
    "ax1.set_title(\"input image : {}\".format(image_infos['file_name']), fontsize = 15)\n",
    "\n",
    "ax2.imshow(temp_masks[0])\n",
    "ax2.grid(False)\n",
    "ax2.set_title(\"masks : {}\".format(image_infos['file_name']), fontsize = 15)\n",
    "\n",
    "plt.show()"
   ]
  },
  {
   "cell_type": "code",
   "execution_count": null,
   "id": "1fe4dd2f-bb7d-4069-a526-0819522c61b0",
   "metadata": {},
   "outputs": [],
   "source": []
  }
 ],
 "metadata": {
  "interpreter": {
   "hash": "d36e052b391be8c28b05838ade06426769a29575d5fe21a7bc69c7dec0c04c06"
  },
  "kernelspec": {
   "display_name": "Python 3 (ipykernel)",
   "language": "python",
   "name": "python3"
  },
  "language_info": {
   "codemirror_mode": {
    "name": "ipython",
    "version": 3
   },
   "file_extension": ".py",
   "mimetype": "text/x-python",
   "name": "python",
   "nbconvert_exporter": "python",
   "pygments_lexer": "ipython3",
   "version": "3.7.11"
  }
 },
 "nbformat": 4,
 "nbformat_minor": 5
}

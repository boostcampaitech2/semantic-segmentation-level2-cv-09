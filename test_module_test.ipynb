{
 "cells": [
  {
   "cell_type": "code",
   "execution_count": null,
   "id": "468bdc6a-c394-4a6b-9d17-0f4b7474385a",
   "metadata": {},
   "outputs": [],
   "source": [
    "import utils\n",
    "import torch\n",
    "from importlib import import_module"
   ]
  },
  {
   "cell_type": "code",
   "execution_count": null,
   "id": "d7e22239-b86f-4458-9bd8-baf8b7fdde2b",
   "metadata": {},
   "outputs": [],
   "source": [
    "model_path = \"model/exp2\"\n",
    "model_name = \"last.pth\"\n",
    "data_dir = \"../../input/data/\"\n",
    "batch_size = 32"
   ]
  },
  {
   "cell_type": "code",
   "execution_count": null,
   "id": "8308a4db-aa7d-4243-b1ca-85142f2ecdf8",
   "metadata": {},
   "outputs": [],
   "source": [
    "    # -- dataset\n",
    "test_dataset_module = getattr(import_module(\"dataset\"), \"BaseDataset\")\n",
    "test_dataset = test_dataset_module(\n",
    "    data_dir = data_dir,\n",
    "    ann_file = \"test.json\",\n",
    "    train = False\n",
    ")\n",
    "\n",
    "# -- augmentation\n",
    "transform_module = getattr(import_module(\"dataset\"), \"TestAugmentation\")\n",
    "transform = transform_module()\n",
    "test_dataset.set_transform(transform)\n",
    "\n",
    "# -- data loader\n",
    "test_loader = torch.utils.data.DataLoader(\n",
    "    dataset=test_dataset,\n",
    "    batch_size = batch_size,\n",
    "    num_workers=4,\n",
    "    collate_fn=utils.collate_fn,\n",
    ")"
   ]
  },
  {
   "cell_type": "code",
   "execution_count": null,
   "id": "864b0cbe-fa3b-4532-9e6b-0676976dc02b",
   "metadata": {},
   "outputs": [],
   "source": [
    "utils.plot_examples(model_path, model_name, \"test\", 12, 4, test_loader)"
   ]
  },
  {
   "cell_type": "code",
   "execution_count": null,
   "id": "e8d15b65-cf2e-42f3-9b1c-b8525d847959",
   "metadata": {},
   "outputs": [],
   "source": []
  }
 ],
 "metadata": {
  "kernelspec": {
   "display_name": "segmentation",
   "language": "python",
   "name": "segmentation"
  },
  "language_info": {
   "codemirror_mode": {
    "name": "ipython",
    "version": 3
   },
   "file_extension": ".py",
   "mimetype": "text/x-python",
   "name": "python",
   "nbconvert_exporter": "python",
   "pygments_lexer": "ipython3",
   "version": "3.7.11"
  }
 },
 "nbformat": 4,
 "nbformat_minor": 5
}
